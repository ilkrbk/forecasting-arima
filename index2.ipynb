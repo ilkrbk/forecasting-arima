{
 "metadata": {
  "language_info": {
   "codemirror_mode": {
    "name": "ipython",
    "version": 3
   },
   "file_extension": ".py",
   "mimetype": "text/x-python",
   "name": "python",
   "nbconvert_exporter": "python",
   "pygments_lexer": "ipython3",
   "version": "3.9.5"
  },
  "orig_nbformat": 2,
  "kernelspec": {
   "name": "python395jvsc74a57bd0aee8b7b246df8f9039afb4144a1f6fd8d2ca17a180786b69acc140d282b71a49",
   "display_name": "Python 3.9.5 64-bit"
  }
 },
 "nbformat": 4,
 "nbformat_minor": 2,
 "cells": [
  {
   "source": [
    "# Forecasting"
   ],
   "cell_type": "markdown",
   "metadata": {}
  },
  {
   "source": [
    "## Import"
   ],
   "cell_type": "markdown",
   "metadata": {}
  },
  {
   "cell_type": "code",
   "execution_count": 62,
   "metadata": {},
   "outputs": [],
   "source": [
    "import math\n",
    "from statsmodels.tsa.arima.model import ARIMA\n",
    "from sklearn.metrics import mean_squared_error\n",
    "import pandas as pd\n",
    "from matplotlib import pyplot as plt"
   ]
  },
  {
   "source": [
    "## Load Data"
   ],
   "cell_type": "markdown",
   "metadata": {}
  },
  {
   "cell_type": "code",
   "execution_count": 63,
   "metadata": {},
   "outputs": [
    {
     "output_type": "execute_result",
     "data": {
      "text/plain": [
       "            venda\n",
       "data             \n",
       "2014-01-01      0\n",
       "2014-01-02     70\n",
       "2014-01-03     59\n",
       "2014-01-04     93\n",
       "2014-01-05     96"
      ],
      "text/html": "<div>\n<style scoped>\n    .dataframe tbody tr th:only-of-type {\n        vertical-align: middle;\n    }\n\n    .dataframe tbody tr th {\n        vertical-align: top;\n    }\n\n    .dataframe thead th {\n        text-align: right;\n    }\n</style>\n<table border=\"1\" class=\"dataframe\">\n  <thead>\n    <tr style=\"text-align: right;\">\n      <th></th>\n      <th>venda</th>\n    </tr>\n    <tr>\n      <th>data</th>\n      <th></th>\n    </tr>\n  </thead>\n  <tbody>\n    <tr>\n      <th>2014-01-01</th>\n      <td>0</td>\n    </tr>\n    <tr>\n      <th>2014-01-02</th>\n      <td>70</td>\n    </tr>\n    <tr>\n      <th>2014-01-03</th>\n      <td>59</td>\n    </tr>\n    <tr>\n      <th>2014-01-04</th>\n      <td>93</td>\n    </tr>\n    <tr>\n      <th>2014-01-05</th>\n      <td>96</td>\n    </tr>\n  </tbody>\n</table>\n</div>"
     },
     "metadata": {},
     "execution_count": 63
    }
   ],
   "source": [
    "data = pd.read_csv('data.csv', index_col=0, parse_dates=True, squeeze=True)\n",
    "data = data.drop(['estoque', 'preco'], 1)\n",
    "series = pd.DataFrame(data)\n",
    "\n",
    "series.head()"
   ]
  },
  {
   "source": [
    "## Split Data"
   ],
   "cell_type": "markdown",
   "metadata": {}
  },
  {
   "cell_type": "code",
   "execution_count": 64,
   "metadata": {},
   "outputs": [],
   "source": [
    "X = series.values\n",
    "size = int(len(X) * 0.8)\n",
    "train, test = X[:size], X[size:]"
   ]
  },
  {
   "source": [
    "## Copy Data"
   ],
   "cell_type": "markdown",
   "metadata": {}
  },
  {
   "source": [
    "### First 80%"
   ],
   "cell_type": "markdown",
   "metadata": {}
  },
  {
   "cell_type": "code",
   "execution_count": 65,
   "metadata": {},
   "outputs": [],
   "source": [
    "history = [x for x in train]"
   ]
  },
  {
   "source": [
    "### Last 20%"
   ],
   "cell_type": "markdown",
   "metadata": {}
  },
  {
   "cell_type": "code",
   "execution_count": 66,
   "metadata": {},
   "outputs": [],
   "source": [
    "predictions = []"
   ]
  },
  {
   "source": [
    "### Result"
   ],
   "cell_type": "markdown",
   "metadata": {}
  },
  {
   "cell_type": "code",
   "execution_count": 67,
   "metadata": {},
   "outputs": [],
   "source": [
    "prediction_result = [x for x in train]"
   ]
  },
  {
   "source": [
    "## ARIMA"
   ],
   "cell_type": "markdown",
   "metadata": {}
  },
  {
   "cell_type": "code",
   "execution_count": 68,
   "metadata": {},
   "outputs": [
    {
     "output_type": "stream",
     "name": "stdout",
     "text": [
      "predicted=167.376232, expected=105.000000\n",
      "predicted=114.051660, expected=129.000000\n",
      "predicted=138.693786, expected=144.000000\n",
      "predicted=160.785075, expected=173.000000\n",
      "predicted=168.751314, expected=293.000000\n",
      "predicted=249.346130, expected=219.000000\n",
      "predicted=192.792726, expected=131.000000\n",
      "predicted=150.185062, expected=184.000000\n",
      "predicted=184.358511, expected=266.000000\n",
      "predicted=236.963731, expected=98.000000\n",
      "predicted=143.476775, expected=67.000000\n",
      "predicted=117.990442, expected=85.000000\n",
      "predicted=103.500395, expected=78.000000\n",
      "predicted=99.285812, expected=71.000000\n",
      "predicted=101.822228, expected=113.000000\n",
      "predicted=104.149925, expected=138.000000\n",
      "predicted=116.112141, expected=98.000000\n",
      "predicted=96.348381, expected=96.000000\n",
      "predicted=97.837083, expected=190.000000\n",
      "predicted=157.360887, expected=105.000000\n",
      "predicted=106.567556, expected=25.000000\n",
      "predicted=65.576193, expected=47.000000\n",
      "predicted=68.080229, expected=63.000000\n",
      "predicted=68.811293, expected=39.000000\n",
      "predicted=63.710398, expected=35.000000\n",
      "predicted=48.753669, expected=77.000000\n",
      "predicted=63.448364, expected=60.000000\n",
      "predicted=54.550707, expected=52.000000\n",
      "predicted=55.455830, expected=51.000000\n",
      "predicted=50.885771, expected=37.000000\n",
      "predicted=40.429445, expected=42.000000\n",
      "predicted=49.071153, expected=89.000000\n",
      "predicted=76.109065, expected=217.000000\n",
      "predicted=160.805885, expected=197.000000\n",
      "predicted=152.887361, expected=81.000000\n",
      "predicted=88.984430, expected=58.000000\n",
      "predicted=78.565207, expected=120.000000\n",
      "predicted=117.008958, expected=64.000000\n",
      "predicted=90.265189, expected=64.000000\n",
      "predicted=90.537565, expected=76.000000\n",
      "predicted=76.871170, expected=86.000000\n",
      "predicted=79.158011, expected=98.000000\n",
      "predicted=96.515788, expected=53.000000\n",
      "predicted=59.602161, expected=38.000000\n",
      "predicted=51.697699, expected=46.000000\n",
      "predicted=54.517061, expected=45.000000\n",
      "predicted=51.959700, expected=67.000000\n",
      "predicted=67.661909, expected=52.000000\n",
      "predicted=50.719621, expected=24.000000\n",
      "predicted=32.390958, expected=51.000000\n",
      "predicted=50.954097, expected=127.000000\n",
      "predicted=98.476115, expected=75.000000\n",
      "predicted=68.135669, expected=62.000000\n",
      "predicted=66.516532, expected=128.000000\n",
      "predicted=104.654229, expected=138.000000\n",
      "predicted=113.250807, expected=74.000000\n",
      "predicted=87.458426, expected=73.000000\n",
      "predicted=83.102522, expected=100.000000\n",
      "predicted=93.744455, expected=71.000000\n",
      "predicted=81.230634, expected=99.000000\n",
      "predicted=103.358731, expected=102.000000\n",
      "predicted=93.452571, expected=57.000000\n",
      "predicted=65.726263, expected=23.000000\n",
      "predicted=48.081891, expected=35.000000\n",
      "predicted=47.413226, expected=59.000000\n",
      "predicted=61.750926, expected=41.000000\n",
      "predicted=48.879387, expected=68.000000\n",
      "predicted=62.975873, expected=84.000000\n",
      "predicted=67.697510, expected=42.000000\n",
      "predicted=44.128499, expected=95.000000\n",
      "predicted=86.163589, expected=85.000000\n",
      "predicted=72.859642, expected=102.000000\n",
      "predicted=93.128591, expected=111.000000\n",
      "predicted=101.684870, expected=113.000000\n",
      "predicted=99.476907, expected=208.000000\n",
      "predicted=172.757549, expected=148.000000\n",
      "predicted=131.686316, expected=123.000000\n",
      "predicted=129.158783, expected=62.000000\n",
      "predicted=86.712465, expected=129.000000\n",
      "predicted=128.805424, expected=102.000000\n",
      "predicted=115.097569, expected=110.000000\n",
      "predicted=115.920714, expected=202.000000\n",
      "predicted=172.359140, expected=144.000000\n",
      "predicted=125.492933, expected=84.000000\n",
      "predicted=106.007435, expected=127.000000\n",
      "predicted=128.261303, expected=181.000000\n",
      "predicted=157.882332, expected=268.000000\n",
      "predicted=230.910885, expected=278.000000\n",
      "predicted=235.460399, expected=234.000000\n",
      "predicted=210.465178, expected=133.000000\n",
      "predicted=155.138036, expected=91.000000\n",
      "predicted=133.109936, expected=83.000000\n",
      "predicted=127.955210, expected=139.000000\n",
      "predicted=157.413579, expected=113.000000\n",
      "predicted=127.310208, expected=141.000000\n",
      "predicted=136.065688, expected=228.000000\n",
      "predicted=187.526478, expected=163.000000\n",
      "predicted=145.166484, expected=0.000000\n",
      "predicted=54.493761, expected=125.000000\n",
      "predicted=133.662989, expected=180.000000\n",
      "predicted=153.381147, expected=222.000000\n",
      "predicted=201.033351, expected=243.000000\n",
      "predicted=212.752633, expected=408.000000\n",
      "predicted=309.288883, expected=181.000000\n",
      "predicted=178.612802, expected=176.000000\n",
      "predicted=206.536565, expected=178.000000\n",
      "predicted=196.928974, expected=310.000000\n",
      "predicted=278.492227, expected=134.000000\n",
      "predicted=188.774974, expected=132.000000\n",
      "predicted=162.281519, expected=1.000000\n",
      "predicted=64.161906, expected=0.000000\n",
      "predicted=50.680391, expected=0.000000\n",
      "predicted=60.908050, expected=0.000000\n",
      "predicted=21.718171, expected=110.000000\n",
      "predicted=96.292345, expected=81.000000\n",
      "predicted=54.798797, expected=112.000000\n",
      "predicted=86.382585, expected=186.000000\n",
      "predicted=140.296229, expected=113.000000\n",
      "predicted=92.322144, expected=86.000000\n",
      "predicted=101.774430, expected=59.000000\n",
      "predicted=75.442699, expected=94.000000\n",
      "predicted=97.006790, expected=167.000000\n",
      "predicted=154.520281, expected=244.000000\n",
      "predicted=196.552791, expected=261.000000\n",
      "predicted=213.095948, expected=187.000000\n",
      "predicted=169.945839, expected=115.000000\n",
      "predicted=132.848277, expected=139.000000\n",
      "predicted=155.388043, expected=273.000000\n",
      "predicted=248.106807, expected=235.000000\n",
      "predicted=222.624766, expected=172.000000\n",
      "predicted=182.070288, expected=323.000000\n",
      "predicted=276.772566, expected=336.000000\n",
      "predicted=280.079763, expected=127.000000\n",
      "predicted=173.537216, expected=137.000000\n",
      "predicted=187.012406, expected=249.000000\n",
      "predicted=228.250990, expected=201.000000\n",
      "predicted=208.228216, expected=271.000000\n",
      "predicted=274.312091, expected=512.000000\n",
      "predicted=401.026534, expected=317.000000\n",
      "predicted=269.138173, expected=224.000000\n",
      "predicted=264.886152, expected=239.000000\n",
      "predicted=255.083429, expected=377.000000\n",
      "predicted=335.396702, expected=239.000000\n",
      "predicted=285.739742, expected=243.000000\n",
      "predicted=273.756128, expected=438.000000\n",
      "predicted=378.553507, expected=334.000000\n",
      "predicted=293.726421, expected=149.000000\n",
      "predicted=230.100092, expected=32.000000\n",
      "predicted=126.948883, expected=39.000000\n",
      "predicted=98.797449, expected=42.000000\n",
      "predicted=114.409025, expected=64.000000\n",
      "predicted=108.275711, expected=170.000000\n",
      "predicted=150.516275, expected=132.000000\n",
      "predicted=100.406564, expected=123.000000\n",
      "predicted=111.506925, expected=78.000000\n",
      "predicted=82.460174, expected=130.000000\n",
      "predicted=116.639180, expected=141.000000\n",
      "predicted=138.346729, expected=247.000000\n",
      "predicted=207.408495, expected=322.000000\n",
      "predicted=260.598041, expected=196.000000\n",
      "predicted=173.654721, expected=172.000000\n",
      "predicted=187.305701, expected=218.000000\n",
      "predicted=207.342221, expected=216.000000\n",
      "predicted=211.409020, expected=179.000000\n",
      "predicted=209.374957, expected=32.000000\n",
      "predicted=87.933742, expected=95.000000\n",
      "predicted=126.225316, expected=78.000000\n",
      "predicted=100.051684, expected=122.000000\n",
      "predicted=130.187714, expected=164.000000\n",
      "predicted=157.723851, expected=288.000000\n",
      "predicted=216.153339, expected=138.000000\n",
      "predicted=128.845450, expected=189.000000\n",
      "predicted=181.691904, expected=321.000000\n",
      "predicted=268.101355, expected=209.000000\n",
      "predicted=186.125017, expected=161.000000\n",
      "predicted=207.584225, expected=157.000000\n",
      "predicted=169.096915, expected=283.000000\n",
      "predicted=247.370153, expected=60.000000\n",
      "predicted=116.822207, expected=98.000000\n",
      "predicted=145.935667, expected=133.000000\n",
      "predicted=140.105560, expected=130.000000\n",
      "predicted=118.529094, expected=62.000000\n",
      "predicted=115.316107, expected=97.000000\n",
      "predicted=97.731140, expected=98.000000\n",
      "predicted=94.026996, expected=108.000000\n",
      "predicted=107.203827, expected=128.000000\n",
      "predicted=126.281479, expected=270.000000\n",
      "predicted=209.133232, expected=183.000000\n"
     ]
    }
   ],
   "source": [
    "for t in range(len(test)):\n",
    "    model = ARIMA(history, order=(5, 1, 0))\n",
    "    model_fit = model.fit()\n",
    "    output = model_fit.forecast()\n",
    "    yhat = output[0]    \n",
    "    predictions.append(yhat)\n",
    "    prediction_result.append(yhat)\n",
    "    obs = test[t]\n",
    "    history.append(obs)\n",
    "    print('predicted=%f, expected=%f' % (yhat, obs))"
   ]
  },
  {
   "source": [
    "## Square Errors"
   ],
   "cell_type": "markdown",
   "metadata": {}
  },
  {
   "cell_type": "code",
   "execution_count": 69,
   "metadata": {},
   "outputs": [
    {
     "output_type": "stream",
     "name": "stdout",
     "text": [
      "Test RMSE: 68.975\n"
     ]
    }
   ],
   "source": [
    "rmse = math.sqrt(mean_squared_error(test, predictions))\n",
    "print('Test RMSE: %.3f' % rmse)"
   ]
  },
  {
   "source": [
    "## Visualisation Data"
   ],
   "cell_type": "markdown",
   "metadata": {}
  },
  {
   "cell_type": "code",
   "execution_count": 70,
   "metadata": {},
   "outputs": [
    {
     "output_type": "display_data",
     "data": {
      "text/plain": "<Figure size 432x288 with 1 Axes>",
      "image/svg+xml": "<?xml version=\"1.0\" encoding=\"utf-8\" standalone=\"no\"?>\n<!DOCTYPE svg PUBLIC \"-//W3C//DTD SVG 1.1//EN\"\n  \"http://www.w3.org/Graphics/SVG/1.1/DTD/svg11.dtd\">\n<svg height=\"248.518125pt\" version=\"1.1\" viewBox=\"0 0 375.2875 248.518125\" width=\"375.2875pt\" xmlns=\"http://www.w3.org/2000/svg\" xmlns:xlink=\"http://www.w3.org/1999/xlink\">\n <metadata>\n  <rdf:RDF xmlns:cc=\"http://creativecommons.org/ns#\" xmlns:dc=\"http://purl.org/dc/elements/1.1/\" xmlns:rdf=\"http://www.w3.org/1999/02/22-rdf-syntax-ns#\">\n   <cc:Work>\n    <dc:type rdf:resource=\"http://purl.org/dc/dcmitype/StillImage\"/>\n    <dc:date>2021-05-27T19:50:11.139347</dc:date>\n    <dc:format>image/svg+xml</dc:format>\n    <dc:creator>\n     <cc:Agent>\n      <dc:title>Matplotlib v3.4.2, https://matplotlib.org/</dc:title>\n     </cc:Agent>\n    </dc:creator>\n   </cc:Work>\n  </rdf:RDF>\n </metadata>\n <defs>\n  <style type=\"text/css\">*{stroke-linecap:butt;stroke-linejoin:round;}</style>\n </defs>\n <g id=\"figure_1\">\n  <g id=\"patch_1\">\n   <path d=\"M 0 248.518125 \nL 375.2875 248.518125 \nL 375.2875 0 \nL 0 0 \nz\n\" style=\"fill:none;\"/>\n  </g>\n  <g id=\"axes_1\">\n   <g id=\"patch_2\">\n    <path d=\"M 33.2875 224.64 \nL 368.0875 224.64 \nL 368.0875 7.2 \nL 33.2875 7.2 \nz\n\" style=\"fill:#ffffff;\"/>\n   </g>\n   <g id=\"matplotlib.axis_1\">\n    <g id=\"xtick_1\">\n     <g id=\"line2d_1\">\n      <defs>\n       <path d=\"M 0 0 \nL 0 3.5 \n\" id=\"md27be4ebc4\" style=\"stroke:#000000;stroke-width:0.8;\"/>\n      </defs>\n      <g>\n       <use style=\"stroke:#000000;stroke-width:0.8;\" x=\"48.505682\" xlink:href=\"#md27be4ebc4\" y=\"224.64\"/>\n      </g>\n     </g>\n     <g id=\"text_1\">\n      <!-- 0 -->\n      <g transform=\"translate(45.324432 239.238437)scale(0.1 -0.1)\">\n       <defs>\n        <path d=\"M 2034 4250 \nQ 1547 4250 1301 3770 \nQ 1056 3291 1056 2328 \nQ 1056 1369 1301 889 \nQ 1547 409 2034 409 \nQ 2525 409 2770 889 \nQ 3016 1369 3016 2328 \nQ 3016 3291 2770 3770 \nQ 2525 4250 2034 4250 \nz\nM 2034 4750 \nQ 2819 4750 3233 4129 \nQ 3647 3509 3647 2328 \nQ 3647 1150 3233 529 \nQ 2819 -91 2034 -91 \nQ 1250 -91 836 529 \nQ 422 1150 422 2328 \nQ 422 3509 836 4129 \nQ 1250 4750 2034 4750 \nz\n\" id=\"DejaVuSans-30\" transform=\"scale(0.015625)\"/>\n       </defs>\n       <use xlink:href=\"#DejaVuSans-30\"/>\n      </g>\n     </g>\n    </g>\n    <g id=\"xtick_2\">\n     <g id=\"line2d_2\">\n      <g>\n       <use style=\"stroke:#000000;stroke-width:0.8;\" x=\"89.196008\" xlink:href=\"#md27be4ebc4\" y=\"224.64\"/>\n      </g>\n     </g>\n     <g id=\"text_2\">\n      <!-- 25 -->\n      <g transform=\"translate(82.833508 239.238437)scale(0.1 -0.1)\">\n       <defs>\n        <path d=\"M 1228 531 \nL 3431 531 \nL 3431 0 \nL 469 0 \nL 469 531 \nQ 828 903 1448 1529 \nQ 2069 2156 2228 2338 \nQ 2531 2678 2651 2914 \nQ 2772 3150 2772 3378 \nQ 2772 3750 2511 3984 \nQ 2250 4219 1831 4219 \nQ 1534 4219 1204 4116 \nQ 875 4013 500 3803 \nL 500 4441 \nQ 881 4594 1212 4672 \nQ 1544 4750 1819 4750 \nQ 2544 4750 2975 4387 \nQ 3406 4025 3406 3419 \nQ 3406 3131 3298 2873 \nQ 3191 2616 2906 2266 \nQ 2828 2175 2409 1742 \nQ 1991 1309 1228 531 \nz\n\" id=\"DejaVuSans-32\" transform=\"scale(0.015625)\"/>\n        <path d=\"M 691 4666 \nL 3169 4666 \nL 3169 4134 \nL 1269 4134 \nL 1269 2991 \nQ 1406 3038 1543 3061 \nQ 1681 3084 1819 3084 \nQ 2600 3084 3056 2656 \nQ 3513 2228 3513 1497 \nQ 3513 744 3044 326 \nQ 2575 -91 1722 -91 \nQ 1428 -91 1123 -41 \nQ 819 9 494 109 \nL 494 744 \nQ 775 591 1075 516 \nQ 1375 441 1709 441 \nQ 2250 441 2565 725 \nQ 2881 1009 2881 1497 \nQ 2881 1984 2565 2268 \nQ 2250 2553 1709 2553 \nQ 1456 2553 1204 2497 \nQ 953 2441 691 2322 \nL 691 4666 \nz\n\" id=\"DejaVuSans-35\" transform=\"scale(0.015625)\"/>\n       </defs>\n       <use xlink:href=\"#DejaVuSans-32\"/>\n       <use x=\"63.623047\" xlink:href=\"#DejaVuSans-35\"/>\n      </g>\n     </g>\n    </g>\n    <g id=\"xtick_3\">\n     <g id=\"line2d_3\">\n      <g>\n       <use style=\"stroke:#000000;stroke-width:0.8;\" x=\"129.886333\" xlink:href=\"#md27be4ebc4\" y=\"224.64\"/>\n      </g>\n     </g>\n     <g id=\"text_3\">\n      <!-- 50 -->\n      <g transform=\"translate(123.523833 239.238437)scale(0.1 -0.1)\">\n       <use xlink:href=\"#DejaVuSans-35\"/>\n       <use x=\"63.623047\" xlink:href=\"#DejaVuSans-30\"/>\n      </g>\n     </g>\n    </g>\n    <g id=\"xtick_4\">\n     <g id=\"line2d_4\">\n      <g>\n       <use style=\"stroke:#000000;stroke-width:0.8;\" x=\"170.576659\" xlink:href=\"#md27be4ebc4\" y=\"224.64\"/>\n      </g>\n     </g>\n     <g id=\"text_4\">\n      <!-- 75 -->\n      <g transform=\"translate(164.214159 239.238437)scale(0.1 -0.1)\">\n       <defs>\n        <path d=\"M 525 4666 \nL 3525 4666 \nL 3525 4397 \nL 1831 0 \nL 1172 0 \nL 2766 4134 \nL 525 4134 \nL 525 4666 \nz\n\" id=\"DejaVuSans-37\" transform=\"scale(0.015625)\"/>\n       </defs>\n       <use xlink:href=\"#DejaVuSans-37\"/>\n       <use x=\"63.623047\" xlink:href=\"#DejaVuSans-35\"/>\n      </g>\n     </g>\n    </g>\n    <g id=\"xtick_5\">\n     <g id=\"line2d_5\">\n      <g>\n       <use style=\"stroke:#000000;stroke-width:0.8;\" x=\"211.266985\" xlink:href=\"#md27be4ebc4\" y=\"224.64\"/>\n      </g>\n     </g>\n     <g id=\"text_5\">\n      <!-- 100 -->\n      <g transform=\"translate(201.723235 239.238437)scale(0.1 -0.1)\">\n       <defs>\n        <path d=\"M 794 531 \nL 1825 531 \nL 1825 4091 \nL 703 3866 \nL 703 4441 \nL 1819 4666 \nL 2450 4666 \nL 2450 531 \nL 3481 531 \nL 3481 0 \nL 794 0 \nL 794 531 \nz\n\" id=\"DejaVuSans-31\" transform=\"scale(0.015625)\"/>\n       </defs>\n       <use xlink:href=\"#DejaVuSans-31\"/>\n       <use x=\"63.623047\" xlink:href=\"#DejaVuSans-30\"/>\n       <use x=\"127.246094\" xlink:href=\"#DejaVuSans-30\"/>\n      </g>\n     </g>\n    </g>\n    <g id=\"xtick_6\">\n     <g id=\"line2d_6\">\n      <g>\n       <use style=\"stroke:#000000;stroke-width:0.8;\" x=\"251.95731\" xlink:href=\"#md27be4ebc4\" y=\"224.64\"/>\n      </g>\n     </g>\n     <g id=\"text_6\">\n      <!-- 125 -->\n      <g transform=\"translate(242.41356 239.238437)scale(0.1 -0.1)\">\n       <use xlink:href=\"#DejaVuSans-31\"/>\n       <use x=\"63.623047\" xlink:href=\"#DejaVuSans-32\"/>\n       <use x=\"127.246094\" xlink:href=\"#DejaVuSans-35\"/>\n      </g>\n     </g>\n    </g>\n    <g id=\"xtick_7\">\n     <g id=\"line2d_7\">\n      <g>\n       <use style=\"stroke:#000000;stroke-width:0.8;\" x=\"292.647636\" xlink:href=\"#md27be4ebc4\" y=\"224.64\"/>\n      </g>\n     </g>\n     <g id=\"text_7\">\n      <!-- 150 -->\n      <g transform=\"translate(283.103886 239.238437)scale(0.1 -0.1)\">\n       <use xlink:href=\"#DejaVuSans-31\"/>\n       <use x=\"63.623047\" xlink:href=\"#DejaVuSans-35\"/>\n       <use x=\"127.246094\" xlink:href=\"#DejaVuSans-30\"/>\n      </g>\n     </g>\n    </g>\n    <g id=\"xtick_8\">\n     <g id=\"line2d_8\">\n      <g>\n       <use style=\"stroke:#000000;stroke-width:0.8;\" x=\"333.337962\" xlink:href=\"#md27be4ebc4\" y=\"224.64\"/>\n      </g>\n     </g>\n     <g id=\"text_8\">\n      <!-- 175 -->\n      <g transform=\"translate(323.794212 239.238437)scale(0.1 -0.1)\">\n       <use xlink:href=\"#DejaVuSans-31\"/>\n       <use x=\"63.623047\" xlink:href=\"#DejaVuSans-37\"/>\n       <use x=\"127.246094\" xlink:href=\"#DejaVuSans-35\"/>\n      </g>\n     </g>\n    </g>\n   </g>\n   <g id=\"matplotlib.axis_2\">\n    <g id=\"ytick_1\">\n     <g id=\"line2d_9\">\n      <defs>\n       <path d=\"M 0 0 \nL -3.5 0 \n\" id=\"md73199b43c\" style=\"stroke:#000000;stroke-width:0.8;\"/>\n      </defs>\n      <g>\n       <use style=\"stroke:#000000;stroke-width:0.8;\" x=\"33.2875\" xlink:href=\"#md73199b43c\" y=\"214.756364\"/>\n      </g>\n     </g>\n     <g id=\"text_9\">\n      <!-- 0 -->\n      <g transform=\"translate(19.925 218.555582)scale(0.1 -0.1)\">\n       <use xlink:href=\"#DejaVuSans-30\"/>\n      </g>\n     </g>\n    </g>\n    <g id=\"ytick_2\">\n     <g id=\"line2d_10\">\n      <g>\n       <use style=\"stroke:#000000;stroke-width:0.8;\" x=\"33.2875\" xlink:href=\"#md73199b43c\" y=\"176.148409\"/>\n      </g>\n     </g>\n     <g id=\"text_10\">\n      <!-- 100 -->\n      <g transform=\"translate(7.2 179.947628)scale(0.1 -0.1)\">\n       <use xlink:href=\"#DejaVuSans-31\"/>\n       <use x=\"63.623047\" xlink:href=\"#DejaVuSans-30\"/>\n       <use x=\"127.246094\" xlink:href=\"#DejaVuSans-30\"/>\n      </g>\n     </g>\n    </g>\n    <g id=\"ytick_3\">\n     <g id=\"line2d_11\">\n      <g>\n       <use style=\"stroke:#000000;stroke-width:0.8;\" x=\"33.2875\" xlink:href=\"#md73199b43c\" y=\"137.540455\"/>\n      </g>\n     </g>\n     <g id=\"text_11\">\n      <!-- 200 -->\n      <g transform=\"translate(7.2 141.339673)scale(0.1 -0.1)\">\n       <use xlink:href=\"#DejaVuSans-32\"/>\n       <use x=\"63.623047\" xlink:href=\"#DejaVuSans-30\"/>\n       <use x=\"127.246094\" xlink:href=\"#DejaVuSans-30\"/>\n      </g>\n     </g>\n    </g>\n    <g id=\"ytick_4\">\n     <g id=\"line2d_12\">\n      <g>\n       <use style=\"stroke:#000000;stroke-width:0.8;\" x=\"33.2875\" xlink:href=\"#md73199b43c\" y=\"98.9325\"/>\n      </g>\n     </g>\n     <g id=\"text_12\">\n      <!-- 300 -->\n      <g transform=\"translate(7.2 102.731719)scale(0.1 -0.1)\">\n       <defs>\n        <path d=\"M 2597 2516 \nQ 3050 2419 3304 2112 \nQ 3559 1806 3559 1356 \nQ 3559 666 3084 287 \nQ 2609 -91 1734 -91 \nQ 1441 -91 1130 -33 \nQ 819 25 488 141 \nL 488 750 \nQ 750 597 1062 519 \nQ 1375 441 1716 441 \nQ 2309 441 2620 675 \nQ 2931 909 2931 1356 \nQ 2931 1769 2642 2001 \nQ 2353 2234 1838 2234 \nL 1294 2234 \nL 1294 2753 \nL 1863 2753 \nQ 2328 2753 2575 2939 \nQ 2822 3125 2822 3475 \nQ 2822 3834 2567 4026 \nQ 2313 4219 1838 4219 \nQ 1578 4219 1281 4162 \nQ 984 4106 628 3988 \nL 628 4550 \nQ 988 4650 1302 4700 \nQ 1616 4750 1894 4750 \nQ 2613 4750 3031 4423 \nQ 3450 4097 3450 3541 \nQ 3450 3153 3228 2886 \nQ 3006 2619 2597 2516 \nz\n\" id=\"DejaVuSans-33\" transform=\"scale(0.015625)\"/>\n       </defs>\n       <use xlink:href=\"#DejaVuSans-33\"/>\n       <use x=\"63.623047\" xlink:href=\"#DejaVuSans-30\"/>\n       <use x=\"127.246094\" xlink:href=\"#DejaVuSans-30\"/>\n      </g>\n     </g>\n    </g>\n    <g id=\"ytick_5\">\n     <g id=\"line2d_13\">\n      <g>\n       <use style=\"stroke:#000000;stroke-width:0.8;\" x=\"33.2875\" xlink:href=\"#md73199b43c\" y=\"60.324545\"/>\n      </g>\n     </g>\n     <g id=\"text_13\">\n      <!-- 400 -->\n      <g transform=\"translate(7.2 64.123764)scale(0.1 -0.1)\">\n       <defs>\n        <path d=\"M 2419 4116 \nL 825 1625 \nL 2419 1625 \nL 2419 4116 \nz\nM 2253 4666 \nL 3047 4666 \nL 3047 1625 \nL 3713 1625 \nL 3713 1100 \nL 3047 1100 \nL 3047 0 \nL 2419 0 \nL 2419 1100 \nL 313 1100 \nL 313 1709 \nL 2253 4666 \nz\n\" id=\"DejaVuSans-34\" transform=\"scale(0.015625)\"/>\n       </defs>\n       <use xlink:href=\"#DejaVuSans-34\"/>\n       <use x=\"63.623047\" xlink:href=\"#DejaVuSans-30\"/>\n       <use x=\"127.246094\" xlink:href=\"#DejaVuSans-30\"/>\n      </g>\n     </g>\n    </g>\n    <g id=\"ytick_6\">\n     <g id=\"line2d_14\">\n      <g>\n       <use style=\"stroke:#000000;stroke-width:0.8;\" x=\"33.2875\" xlink:href=\"#md73199b43c\" y=\"21.716591\"/>\n      </g>\n     </g>\n     <g id=\"text_14\">\n      <!-- 500 -->\n      <g transform=\"translate(7.2 25.51581)scale(0.1 -0.1)\">\n       <use xlink:href=\"#DejaVuSans-35\"/>\n       <use x=\"63.623047\" xlink:href=\"#DejaVuSans-30\"/>\n       <use x=\"127.246094\" xlink:href=\"#DejaVuSans-30\"/>\n      </g>\n     </g>\n    </g>\n   </g>\n   <g id=\"line2d_15\">\n    <path clip-path=\"url(#p7ee41124f6)\" d=\"M 48.505682 174.218011 \nL 50.133295 164.952102 \nL 51.760908 159.160909 \nL 53.388521 147.964602 \nL 55.016134 101.635057 \nL 56.643747 130.204943 \nL 58.27136 164.179943 \nL 59.898973 143.717727 \nL 61.526586 112.059205 \nL 63.154199 176.920568 \nL 64.781812 188.889034 \nL 66.409425 181.939602 \nL 69.664651 187.344716 \nL 71.292264 171.129375 \nL 72.919877 161.477386 \nL 74.54749 176.920568 \nL 76.175103 177.692727 \nL 77.802716 141.40125 \nL 81.057942 205.104375 \nL 82.685555 196.610625 \nL 84.313168 190.433352 \nL 85.940781 199.699261 \nL 87.568395 201.24358 \nL 89.196008 185.028239 \nL 90.823621 191.591591 \nL 92.451234 194.680227 \nL 94.078847 195.066307 \nL 95.70646 200.47142 \nL 97.334073 198.541023 \nL 98.961686 180.395284 \nL 100.589299 130.977102 \nL 102.216912 138.698693 \nL 103.844525 183.48392 \nL 105.472138 192.36375 \nL 107.099751 168.426818 \nL 108.727364 190.047273 \nL 110.354977 190.047273 \nL 111.98259 185.414318 \nL 113.610203 181.553523 \nL 115.237816 176.920568 \nL 116.865429 194.294148 \nL 118.493042 200.085341 \nL 120.120655 196.996705 \nL 121.748268 197.382784 \nL 123.375881 188.889034 \nL 125.003494 194.680227 \nL 126.631107 205.490455 \nL 128.25872 195.066307 \nL 129.886333 165.724261 \nL 131.513946 185.800398 \nL 133.141559 190.819432 \nL 134.769172 165.338182 \nL 136.396785 161.477386 \nL 138.024398 186.186477 \nL 139.652011 186.572557 \nL 141.279624 176.148409 \nL 142.907237 187.344716 \nL 144.534851 176.534489 \nL 146.162464 175.37625 \nL 147.790077 192.74983 \nL 149.41769 205.876534 \nL 151.045303 201.24358 \nL 152.672916 191.97767 \nL 154.300529 198.927102 \nL 155.928142 188.502955 \nL 157.555755 182.325682 \nL 159.183368 198.541023 \nL 160.810981 178.078807 \nL 162.438594 181.939602 \nL 164.066207 175.37625 \nL 165.69382 171.901534 \nL 167.321433 171.129375 \nL 168.949046 134.451818 \nL 170.576659 157.616591 \nL 172.204272 167.26858 \nL 173.831885 190.819432 \nL 175.459498 164.952102 \nL 177.087111 175.37625 \nL 178.714724 172.287614 \nL 180.342337 136.768295 \nL 183.597563 182.325682 \nL 185.225176 165.724261 \nL 186.852789 144.875966 \nL 188.480402 111.287045 \nL 190.108015 107.42625 \nL 191.735628 124.41375 \nL 193.363241 163.407784 \nL 194.990854 179.623125 \nL 196.618467 182.711761 \nL 198.24608 161.091307 \nL 199.873693 171.129375 \nL 201.501307 160.319148 \nL 203.12892 126.730227 \nL 204.756533 151.825398 \nL 206.384146 214.756364 \nL 208.011759 166.49642 \nL 209.639372 145.262045 \nL 211.266985 129.046705 \nL 212.894598 120.939034 \nL 214.522211 57.235909 \nL 216.149824 144.875966 \nL 217.777437 146.806364 \nL 219.40505 146.034205 \nL 221.032663 95.071705 \nL 222.660276 163.021705 \nL 224.287889 163.793864 \nL 225.915502 214.370284 \nL 227.543115 214.756364 \nL 230.798341 214.756364 \nL 232.425954 172.287614 \nL 234.053567 183.48392 \nL 235.68118 171.515455 \nL 237.308793 142.945568 \nL 238.936406 171.129375 \nL 242.191632 191.97767 \nL 243.819245 178.464886 \nL 247.074471 120.552955 \nL 248.702084 113.989602 \nL 251.95731 170.357216 \nL 253.584923 161.091307 \nL 255.212536 109.356648 \nL 256.840149 124.02767 \nL 258.467763 148.350682 \nL 260.095376 90.05267 \nL 261.722989 85.033636 \nL 263.350602 165.724261 \nL 264.978215 161.863466 \nL 266.605828 118.622557 \nL 268.233441 137.154375 \nL 269.861054 110.128807 \nL 271.488667 17.083636 \nL 273.11628 92.369148 \nL 274.743893 128.274545 \nL 276.371506 122.483352 \nL 277.999119 69.204375 \nL 279.626732 122.483352 \nL 281.254345 120.939034 \nL 282.881958 45.653523 \nL 284.509571 85.805795 \nL 286.137184 157.230511 \nL 287.764797 202.401818 \nL 289.39241 199.699261 \nL 291.020023 198.541023 \nL 292.647636 190.047273 \nL 294.275249 149.122841 \nL 295.902862 163.793864 \nL 297.530475 167.26858 \nL 299.158088 184.642159 \nL 300.785701 164.566023 \nL 302.413314 160.319148 \nL 304.040927 119.394716 \nL 305.66854 90.43875 \nL 307.296153 139.084773 \nL 308.923766 148.350682 \nL 310.551379 130.591023 \nL 312.178992 131.363182 \nL 313.806605 145.648125 \nL 315.434219 202.401818 \nL 317.061832 178.078807 \nL 318.689445 184.642159 \nL 321.944671 151.439318 \nL 323.572284 103.565455 \nL 325.199897 161.477386 \nL 326.82751 141.78733 \nL 328.455123 90.82483 \nL 330.082736 134.065739 \nL 331.710349 152.597557 \nL 333.337962 154.141875 \nL 334.965575 105.495852 \nL 336.593188 191.591591 \nL 338.220801 176.920568 \nL 339.848414 163.407784 \nL 341.476027 164.566023 \nL 343.10364 190.819432 \nL 344.731253 177.306648 \nL 346.358866 176.920568 \nL 347.986479 173.059773 \nL 349.614092 165.338182 \nL 351.241705 110.514886 \nL 352.869318 144.103807 \nL 352.869318 144.103807 \n\" style=\"fill:none;stroke:#1f77b4;stroke-linecap:square;stroke-width:1.5;\"/>\n   </g>\n   <g id=\"line2d_16\">\n    <path clip-path=\"url(#p7ee41124f6)\" d=\"M 48.505682 150.135824 \nL 50.133295 170.723351 \nL 51.760908 161.20953 \nL 53.388521 152.680535 \nL 55.016134 149.604933 \nL 56.643747 118.488923 \nL 58.27136 140.323035 \nL 59.898973 156.772983 \nL 61.526586 143.579313 \nL 63.154199 123.269514 \nL 64.781812 159.362916 \nL 66.409425 169.202667 \nL 68.037038 174.796978 \nL 69.664651 176.424142 \nL 72.919877 174.546208 \nL 74.54749 169.927841 \nL 76.175103 177.558225 \nL 77.802716 176.983467 \nL 79.430329 154.002544 \nL 81.057942 173.61281 \nL 82.685555 189.438737 \nL 84.313168 188.47198 \nL 85.940781 188.189731 \nL 87.568395 190.159082 \nL 89.196008 195.933569 \nL 90.823621 190.260248 \nL 92.451234 193.695452 \nL 94.078847 193.346002 \nL 95.70646 195.110408 \nL 97.334073 199.147382 \nL 98.961686 195.810995 \nL 100.589299 185.37221 \nL 102.216912 152.672501 \nL 103.844525 155.729681 \nL 105.472138 180.401296 \nL 107.099751 184.423944 \nL 108.727364 169.581598 \nL 110.354977 179.906821 \nL 111.98259 179.801662 \nL 113.610203 185.077977 \nL 115.237816 184.195075 \nL 116.865429 177.493592 \nL 118.493042 191.745188 \nL 120.120655 194.796939 \nL 121.748268 193.708442 \nL 123.375881 194.695786 \nL 125.003494 188.633485 \nL 126.631107 195.174555 \nL 128.25872 202.250877 \nL 129.886333 195.084029 \nL 131.513946 176.73675 \nL 133.141559 188.450575 \nL 134.769172 189.075691 \nL 136.396785 174.351506 \nL 138.024398 171.032544 \nL 139.652011 180.990454 \nL 141.279624 182.67218 \nL 142.907237 178.563547 \nL 144.534851 183.394878 \nL 146.162464 174.851672 \nL 147.790077 178.676237 \nL 149.41769 189.380798 \nL 151.045303 196.192929 \nL 152.672916 196.451087 \nL 154.300529 190.915594 \nL 155.928142 195.885032 \nL 157.555755 190.442667 \nL 159.183368 188.61974 \nL 160.810981 197.719253 \nL 162.438594 181.490364 \nL 164.066207 186.626746 \nL 165.69382 178.80132 \nL 167.321433 175.497915 \nL 168.949046 176.350365 \nL 170.576659 148.058208 \nL 172.204272 163.914971 \nL 173.831885 164.890799 \nL 175.459498 181.278455 \nL 177.087111 165.027224 \nL 178.714724 170.319547 \nL 180.342337 170.001747 \nL 181.96995 148.212025 \nL 183.597563 166.306109 \nL 185.225176 173.829061 \nL 186.852789 165.237298 \nL 188.480402 153.801225 \nL 190.108015 125.606394 \nL 191.735628 123.84992 \nL 193.363241 133.500063 \nL 194.990854 154.860741 \nL 196.618467 163.36534 \nL 198.24608 165.355474 \nL 199.873693 153.9822 \nL 201.501307 165.604496 \nL 203.12892 162.224185 \nL 204.756533 142.356226 \nL 206.384146 158.710554 \nL 208.011759 193.717437 \nL 209.639372 163.151818 \nL 211.266985 155.53904 \nL 212.894598 137.141499 \nL 214.522211 132.616924 \nL 216.149824 95.346252 \nL 217.777437 145.797614 \nL 219.40505 135.016821 \nL 221.032663 138.726115 \nL 222.660276 107.236211 \nL 224.287889 141.874208 \nL 225.915502 152.102788 \nL 227.543115 189.984764 \nL 229.170728 195.189701 \nL 230.798341 191.241012 \nL 232.425954 206.371422 \nL 234.053567 177.579859 \nL 235.68118 193.599669 \nL 237.308793 181.405815 \nL 238.936406 160.590859 \nL 240.564019 179.112672 \nL 242.191632 175.463338 \nL 243.819245 185.629481 \nL 245.446858 177.304026 \nL 247.074471 155.099244 \nL 248.702084 138.871352 \nL 250.329697 132.484377 \nL 251.95731 149.143751 \nL 253.584923 163.466361 \nL 255.212536 154.764218 \nL 256.840149 118.9674 \nL 258.467763 128.805495 \nL 260.095376 144.462749 \nL 261.722989 107.900137 \nL 263.350602 106.623296 \nL 264.978215 147.757194 \nL 266.605828 142.554699 \nL 268.233441 126.633325 \nL 269.861054 134.363709 \nL 271.488667 108.850076 \nL 273.11628 59.928222 \nL 274.743893 110.84762 \nL 276.371506 112.489238 \nL 277.999119 116.273869 \nL 279.626732 85.266557 \nL 281.254345 104.438094 \nL 282.881958 109.064722 \nL 284.509571 68.604598 \nL 286.137184 101.3546 \nL 287.764797 125.919425 \nL 289.39241 165.743997 \nL 291.020023 176.612689 \nL 292.647636 170.585379 \nL 294.275249 172.953326 \nL 295.902862 156.645109 \nL 297.530475 175.991443 \nL 299.158088 171.705821 \nL 300.785701 182.920177 \nL 302.413314 169.724362 \nL 304.040927 161.343521 \nL 305.66854 134.680186 \nL 307.296153 114.144791 \nL 308.923766 147.711828 \nL 310.551379 142.441464 \nL 312.178992 134.705773 \nL 313.806605 133.135665 \nL 315.434219 133.920975 \nL 317.061832 180.806944 \nL 318.689445 166.023351 \nL 320.317058 176.128455 \nL 321.944671 164.49355 \nL 323.572284 153.862411 \nL 325.199897 131.303981 \nL 326.82751 165.011771 \nL 328.455123 144.608836 \nL 330.082736 111.247914 \nL 331.710349 142.897302 \nL 333.337962 134.61234 \nL 334.965575 149.471503 \nL 336.593188 119.251807 \nL 338.220801 169.653699 \nL 339.848414 158.413588 \nL 341.476027 160.664473 \nL 343.10364 168.994705 \nL 344.731253 170.235174 \nL 346.358866 177.02437 \nL 347.986479 178.454464 \nL 349.614092 173.367159 \nL 351.241705 166.001668 \nL 352.869318 134.0143 \nL 352.869318 134.0143 \n\" style=\"fill:none;stroke:#ff0000;stroke-linecap:square;stroke-width:1.5;\"/>\n   </g>\n   <g id=\"patch_3\">\n    <path d=\"M 33.2875 224.64 \nL 33.2875 7.2 \n\" style=\"fill:none;stroke:#000000;stroke-linecap:square;stroke-linejoin:miter;stroke-width:0.8;\"/>\n   </g>\n   <g id=\"patch_4\">\n    <path d=\"M 368.0875 224.64 \nL 368.0875 7.2 \n\" style=\"fill:none;stroke:#000000;stroke-linecap:square;stroke-linejoin:miter;stroke-width:0.8;\"/>\n   </g>\n   <g id=\"patch_5\">\n    <path d=\"M 33.2875 224.64 \nL 368.0875 224.64 \n\" style=\"fill:none;stroke:#000000;stroke-linecap:square;stroke-linejoin:miter;stroke-width:0.8;\"/>\n   </g>\n   <g id=\"patch_6\">\n    <path d=\"M 33.2875 7.2 \nL 368.0875 7.2 \n\" style=\"fill:none;stroke:#000000;stroke-linecap:square;stroke-linejoin:miter;stroke-width:0.8;\"/>\n   </g>\n  </g>\n </g>\n <defs>\n  <clipPath id=\"p7ee41124f6\">\n   <rect height=\"217.44\" width=\"334.8\" x=\"33.2875\" y=\"7.2\"/>\n  </clipPath>\n </defs>\n</svg>\n",
      "image/png": "[encoded data removed]"
     },
     "metadata": {
      "needs_background": "light"
     }
    }
   ],
   "source": [
    "plt.plot(test)\n",
    "plt.plot(predictions, color='red')\n",
    "plt.show()"
   ]
  }
 ]
}